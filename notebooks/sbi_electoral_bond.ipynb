{
 "cells": [
  {
   "cell_type": "code",
   "execution_count": null,
   "metadata": {},
   "outputs": [],
   "source": [
    "from PyPDF2 import PdfReader\n",
    "import pandas as pd\n",
    "\n",
    "def pdf_to_dataframe(pdf_file):\n",
    "    # Open the PDF file\n",
    "    with open(pdf_file, 'rb') as file:\n",
    "        # Create a PDF reader object\n",
    "        pdf_reader = PdfReader(file)\n",
    "        \n",
    "        # Initialize an empty list to store extracted text\n",
    "        text_data = []\n",
    "        \n",
    "        # Iterate through each page in the PDF\n",
    "        for page_num in range(len(pdf_reader.pages)):\n",
    "            # Extract text from the page\n",
    "            page = pdf_reader.pages[page_num]\n",
    "            text_data.append(page.extract_text())\n",
    "    \n",
    "    # Convert the list of text into a DataFrame\n",
    "    df = pd.DataFrame(text_data, columns=['Text'])\n",
    "    return df\n",
    "\n",
    "# Provide the path to the PDF file\n",
    "# pdf_file = 'data/purchaser_details_final_I.pdf'\n",
    "\n",
    "# # Call the function to convert PDF to DataFrame\n",
    "# dataframe = pdf_to_dataframe(pdf_file)\n",
    "\n",
    "# # Display the DataFrame\n",
    "# print(dataframe)\n"
   ]
  },
  {
   "cell_type": "code",
   "execution_count": null,
   "metadata": {},
   "outputs": [],
   "source": [
    "def extract_columns(line):\n",
    "    # Define the regex pattern\n",
    "    pattern = r'(\\d{2}/[A-Za-z]{3}/\\d{4})\\s+(.*?)\\s+([\\d,]+)'\n",
    "\n",
    "    # Match the pattern in the line\n",
    "    matches = re.match(pattern, line)\n",
    "\n",
    "    # Extract the groups (date, name, amount)\n",
    "    date = matches.group(1).strip()\n",
    "    name = matches.group(2).strip()\n",
    "    amount = matches.group(3).strip()\n",
    "    return date, name, int(amount.replace(\",\", \"\"))"
   ]
  },
  {
   "cell_type": "code",
   "execution_count": null,
   "metadata": {},
   "outputs": [],
   "source": [
    "def get_purchase_df_from_pdf(pdf_file):\n",
    "    dataframe = pdf_to_dataframe(pdf_file)\n",
    "    \n",
    "    # Split text into lines and remove empty lines\n",
    "    lines = dataframe['Text'].str.split('\\n').explode().str.strip().tolist()\n",
    "    lines = [line for line in lines if line]  # Remove empty lines\n",
    "\n",
    "    res = []\n",
    "    for ind in range(1,len(lines)):\n",
    "        res.append(extract_columns(lines[ind]))\n",
    "    df = pd.DataFrame(res, columns=['Date of Purchase', 'Purchaser Name', 'Denomination'])\n",
    "    return df\n"
   ]
  },
  {
   "cell_type": "code",
   "execution_count": null,
   "metadata": {},
   "outputs": [],
   "source": [
    "def get_encashement_df_from_pdf_ii(pdf_file):\n",
    "    dataframe = pdf_to_dataframe(pdf_file)\n",
    "    \n",
    "    # Split text into lines and remove empty lines\n",
    "    lines = dataframe['Text'].str.split('\\n').explode().str.strip().tolist()\n",
    "    lines = [line for line in lines if line]  # Remove empty lines\n",
    "\n",
    "    res = []\n",
    "    for ind in range(2,len(lines)):\n",
    "        res.append(extract_columns(lines[ind]))\n",
    "    df = pd.DataFrame(res, columns=['Date of Encashment', 'Political Party', 'Denomination'])\n",
    "    return df"
   ]
  },
  {
   "cell_type": "code",
   "execution_count": null,
   "metadata": {},
   "outputs": [],
   "source": [
    "purchase_df = get_purchase_df_from_pdf(\"data/purchaser_details_final_I.pdf\")"
   ]
  },
  {
   "cell_type": "code",
   "execution_count": null,
   "metadata": {},
   "outputs": [],
   "source": [
    "encashement_df = get_encashement_df_from_pdf_ii(\"data/encashment_details_final_II.pdf\")"
   ]
  },
  {
   "cell_type": "code",
   "execution_count": null,
   "metadata": {},
   "outputs": [],
   "source": [
    "encashement_df"
   ]
  },
  {
   "cell_type": "code",
   "execution_count": null,
   "metadata": {},
   "outputs": [],
   "source": [
    "purchase_df"
   ]
  },
  {
   "cell_type": "code",
   "execution_count": null,
   "metadata": {},
   "outputs": [],
   "source": [
    "list_of_purchaser = purchase_df['Purchaser Name'].unique()\n",
    "len(list_of_purchaser)\n"
   ]
  },
  {
   "cell_type": "code",
   "execution_count": null,
   "metadata": {},
   "outputs": [],
   "source": [
    "purchase_df.describe(include='all').T"
   ]
  },
  {
   "cell_type": "code",
   "execution_count": null,
   "metadata": {},
   "outputs": [],
   "source": [
    "encashement_df.describe(include='all').T"
   ]
  },
  {
   "cell_type": "code",
   "execution_count": null,
   "metadata": {},
   "outputs": [],
   "source": [
    "rows = encashement_df[encashement_df[\"Political Party\"]==\"BHARTIYA JANTA PARTY\"][\"Denomination\"]\n",
    "sum(rows)\n",
    "\n",
    "def get_total_sum_for_each_unique_party():\n",
    "    parties = "
   ]
  },
  {
   "cell_type": "code",
   "execution_count": null,
   "metadata": {},
   "outputs": [],
   "source": [
    "len(encashement_df[\"Political Party\"].unique())"
   ]
  },
  {
   "cell_type": "code",
   "execution_count": null,
   "metadata": {},
   "outputs": [],
   "source": [
    "def get_total_sum_for_each_unique_party():\n",
    "    res = []\n",
    "    parties = encashement_df[\"Political Party\"].unique()\n",
    "    for party in parties:\n",
    "        rows = encashement_df[encashement_df[\"Political Party\"]==party][\"Denomination\"]\n",
    "        res.append([party,sum(rows)])\n",
    "    return res\n",
    "        "
   ]
  },
  {
   "cell_type": "code",
   "execution_count": null,
   "metadata": {},
   "outputs": [],
   "source": [
    "res = get_total_sum_for_each_unique_party()\n",
    "res.sort(key=lambda x: -x[1])\n",
    "res"
   ]
  },
  {
   "cell_type": "code",
   "execution_count": null,
   "metadata": {},
   "outputs": [],
   "source": [
    "# Save DataFrame to CSV file\n",
    "df = pd.DataFrame(res, columns=['Political Party', 'Total Fund'])\n",
    "df.to_excel(\"party_fund.xls\", index=False)"
   ]
  },
  {
   "cell_type": "code",
   "execution_count": null,
   "metadata": {},
   "outputs": [],
   "source": [
    "# Total denominations to each political party\n",
    "# Total purchase by each unique purchase\n",
    "# Total transaction done by each unique party by a particular date\n",
    "# Total transaction done by purchase by a particular date"
   ]
  }
 ],
 "metadata": {
  "kernelspec": {
   "display_name": "base",
   "language": "python",
   "name": "python3"
  },
  "language_info": {
   "codemirror_mode": {
    "name": "ipython",
    "version": 3
   },
   "file_extension": ".py",
   "mimetype": "text/x-python",
   "name": "python",
   "nbconvert_exporter": "python",
   "pygments_lexer": "ipython3",
   "version": "3.12.2"
  },
  "orig_nbformat": 4
 },
 "nbformat": 4,
 "nbformat_minor": 2
}
